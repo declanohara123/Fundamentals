{
 "cells": [
  {
   "cell_type": "markdown",
   "metadata": {},
   "source": [
    "## Fundamentals of Data Science Project\n",
    "\n",
    "***"
   ]
  },
  {
   "cell_type": "markdown",
   "metadata": {},
   "source": [
    "### Counts\n",
    "\n",
    "***"
   ]
  },
  {
   "cell_type": "markdown",
   "metadata": {},
   "source": [
    "Question: Write a Python function called counts that takes a list as\n",
    "input and returns a dictionary of unique items in the list as keys and the number of\n",
    "times each item appears as values. So, the input ['A', 'A', 'B', 'C', 'A']\n",
    "should have output {'A': 3, 'B': 1, 'C': 1} . Your code should not depend\n",
    "on any module from the standard library1 or otherwise. You should research\n",
    "the task first and include a description with references of your algorithm in the\n",
    "notebook"
   ]
  },
  {
   "cell_type": "code",
   "execution_count": 1,
   "metadata": {},
   "outputs": [],
   "source": [
    "l = ['a', 'b', 'c', 'd', 'a', 'f', 'e', 'a', 'b', 'c', 'e', 'd']"
   ]
  },
  {
   "cell_type": "code",
   "execution_count": 2,
   "metadata": {},
   "outputs": [
    {
     "data": {
      "text/plain": [
       "{'a': 3, 'b': 2, 'c': 2, 'd': 2, 'f': 1, 'e': 2}"
      ]
     },
     "execution_count": 2,
     "metadata": {},
     "output_type": "execute_result"
    }
   ],
   "source": [
    "def count(a):\n",
    "    x = {}\n",
    "    for i in a:\n",
    "         if i in x:\n",
    "             x[i] +=1\n",
    "         else:\n",
    "             x[i] =1\n",
    "    return x\n",
    "\n",
    "count(l)"
   ]
  },
  {
   "cell_type": "markdown",
   "metadata": {},
   "source": [
    "Code above takes in a list \"l\" and scans it for the information present in it.\n",
    "The list is read and for each individual parameter it counts the occurances, it does this by checking each entry and if it is unique creating an output or if it is a repeated entry it adds 1 to the total of the entry."
   ]
  },
  {
   "cell_type": "markdown",
   "metadata": {},
   "source": [
    "References\n",
    "***\n",
    "https://www.geeksforgeeks.org/python-count-occurrences-element-list/\n",
    "\n",
    "https://stackoverflow.com/questions/2600191/how-can-i-count-the-occurrences-of-a-list-item"
   ]
  },
  {
   "cell_type": "markdown",
   "metadata": {},
   "source": [
    "### Dicerolls\n",
    "\n",
    "***"
   ]
  },
  {
   "cell_type": "markdown",
   "metadata": {},
   "source": [
    "Question: Write a Python function called dicerolls that simulates\n",
    "rolling dice. Your function should take two parameters: the number of dice k and\n",
    "the number of times to roll the dice n. The function should simulate randomly\n",
    "rolling k dice n times, keeping track of each total face value. It should then return\n",
    "a dictionary with the number of times each possible total face value occurred. So,\n",
    "calling the function as diceroll(k=2, n=1000) should return a dictionary like:\n",
    "{2:19,3:50,4:82,5:112,6:135,7:174,8:133,9:114,10:75,11:70,12:36}\n",
    "You can use any module from the Python standard library you wish and you should\n",
    "include a description with references of your algorithm in the notebook."
   ]
  },
  {
   "cell_type": "code",
   "execution_count": 3,
   "metadata": {},
   "outputs": [],
   "source": [
    "import random\n",
    "import numpy as np"
   ]
  },
  {
   "cell_type": "code",
   "execution_count": 4,
   "metadata": {},
   "outputs": [],
   "source": [
    "def diceroll(k, n):\n",
    "    for i in range (k + 1):\n",
    "# for loop for range of values\n",
    "        i = i * 6\n",
    "    x = np.random.randint(k, 1+i, size = n)\n",
    "# function to generate each random data point\n",
    "    \n",
    "    count_of_results = {}\n",
    "    \n",
    "    for item in x: \n",
    "        if (item in count_of_results):\n",
    "            count_of_results [item] += 1\n",
    "        else:\n",
    "            count_of_results [item] = 1\n",
    "    print(sorted(count_of_results.items()))"
   ]
  },
  {
   "cell_type": "code",
   "execution_count": 5,
   "metadata": {},
   "outputs": [
    {
     "name": "stdout",
     "output_type": "stream",
     "text": [
      "[(2, 111), (3, 92), (4, 81), (5, 82), (6, 102), (7, 76), (8, 98), (9, 94), (10, 89), (11, 79), (12, 96)]\n"
     ]
    }
   ],
   "source": [
    "diceroll(2, 1000)"
   ]
  },
  {
   "cell_type": "markdown",
   "metadata": {},
   "source": [
    "Function to roll k amount of dice n times, and report the amount of each result."
   ]
  },
  {
   "cell_type": "markdown",
   "metadata": {},
   "source": [
    "References\n",
    "***\n",
    "\n",
    "https://medium.com/@diskokarl/how-to-roll-dice-with-python-34865d83f53d\n",
    "\n",
    "https://stackoverflow.com/questions/50427781/calculating-the-number-of-rolls-of-a-dice-in-python\n",
    "\n",
    "https://www.reddit.com/r/learnpython/comments/cwsqt5/how_to_make_a_script_to_roll_any_number_of_dice/"
   ]
  },
  {
   "cell_type": "markdown",
   "metadata": {},
   "source": [
    "### The Numpy Random Binomial Function\n",
    "\n",
    "***"
   ]
  },
  {
   "cell_type": "markdown",
   "metadata": {},
   "source": [
    "The numpy.random.binomial function can be used to\n",
    "simulate flipping a coin with a 50/50 chance of heads or tails. Interestingly, if a\n",
    "coin is flipped many times then the number of heads is well approximated by a\n",
    "bell-shaped curve. For instance, if we flip a coin 100 times in a row the chance of\n",
    "getting 50 heads is relatively high, the chances of getting 0 or 100 heads is relatively\n",
    "low, and the chances of getting any other number of heads decreases as you move\n",
    "away from 50 in either direction towards 0 or 100. Write some python code that\n",
    "simulates flipping a coin 100 times. Then run this code 1,000 times, keeping track\n",
    "of the number of heads in each of the 1,000 simulations. Select an appropriate\n",
    "plot to depict the resulting list of 1,000 numbers, showing that it roughly follows\n",
    "a bell-shaped curve. You should explain your work in a Markdown cell above the\n",
    "code.\n"
   ]
  },
  {
   "cell_type": "code",
   "execution_count": 6,
   "metadata": {},
   "outputs": [],
   "source": [
    "import numpy as np\n",
    "import matplotlib.pyplot as plt"
   ]
  },
  {
   "cell_type": "code",
   "execution_count": 7,
   "metadata": {
    "scrolled": true
   },
   "outputs": [
    {
     "data": {
      "text/plain": [
       "array([50, 52, 51, 59, 49, 51, 53, 49, 59, 45, 48, 54, 53, 48, 42, 63, 59,\n",
       "       51, 48, 52, 57, 49, 47, 45, 53, 55, 57, 53, 52, 49, 48, 47, 44, 48,\n",
       "       51, 58, 47, 52, 52, 44, 53, 48, 53, 53, 46, 45, 52, 54, 46, 47, 46,\n",
       "       50, 47, 46, 36, 52, 51, 54, 53, 51, 51, 48, 45, 47, 52, 49, 49, 55,\n",
       "       50, 46, 53, 44, 46, 55, 52, 52, 51, 48, 45, 44, 49, 56, 60, 47, 48,\n",
       "       46, 47, 62, 51, 58, 63, 42, 48, 47, 40, 64, 50, 55, 55, 49, 44, 55,\n",
       "       56, 51, 56, 55, 54, 52, 56, 41, 55, 47, 58, 46, 51, 42, 55, 50, 45,\n",
       "       53, 47, 48, 43, 48, 50, 44, 64, 54, 57, 50, 48, 51, 48, 51, 51, 50,\n",
       "       46, 56, 49, 50, 46, 56, 55, 42, 55, 53, 50, 46, 51, 46, 52, 51, 56,\n",
       "       52, 48, 55, 44, 52, 46, 53, 56, 46, 58, 47, 46, 61, 52, 43, 52, 39,\n",
       "       53, 55, 63, 55, 51, 47, 49, 50, 56, 48, 48, 46, 36, 48, 49, 52, 45,\n",
       "       50, 45, 44, 49, 52, 54, 36, 58, 50, 45, 54, 51, 50, 56, 49, 52, 43,\n",
       "       52, 50, 41, 52, 51, 47, 47, 57, 51, 52, 52, 55, 48, 45, 50, 60, 50,\n",
       "       50, 50, 47, 54, 40, 53, 49, 48, 45, 49, 46, 55, 53, 52, 46, 47, 50,\n",
       "       55, 43, 41, 52, 47, 51, 49, 48, 47, 56, 48, 52, 52, 52, 47, 52, 47,\n",
       "       46, 55, 49, 50, 54, 49, 54, 51, 48, 42, 52, 45, 48, 49, 45, 54, 50,\n",
       "       42, 43, 49, 57, 47, 54, 44, 47, 51, 52, 60, 49, 57, 58, 50, 41, 43,\n",
       "       50, 57, 63, 58, 43, 49, 45, 54, 44, 48, 52, 50, 44, 61, 46, 48, 51,\n",
       "       56, 55, 54, 52, 52, 47, 54, 33, 52, 46, 48, 49, 46, 50, 48, 49, 56,\n",
       "       54, 52, 50, 49, 37, 53, 52, 49, 54, 49, 47, 56, 51, 52, 51, 40, 54,\n",
       "       55, 49, 47, 44, 49, 58, 54, 51, 48, 47, 52, 51, 52, 51, 51, 48, 48,\n",
       "       50, 44, 50, 50, 53, 56, 57, 48, 52, 57, 53, 44, 48, 55, 58, 57, 50,\n",
       "       52, 49, 54, 51, 39, 51, 48, 54, 53, 57, 56, 52, 50, 51, 39, 51, 51,\n",
       "       54, 56, 48, 40, 55, 50, 48, 54, 46, 47, 44, 49, 39, 46, 59, 49, 46,\n",
       "       56, 40, 44, 41, 39, 48, 53, 52, 47, 51, 49, 51, 51, 52, 48, 50, 51,\n",
       "       52, 57, 54, 45, 41, 53, 38, 59, 44, 48, 51, 46, 45, 54, 55, 40, 38,\n",
       "       50, 50, 51, 45, 58, 49, 48, 49, 52, 49, 46, 55, 52, 49, 54, 45, 48,\n",
       "       45, 56, 47, 40, 55, 53, 52, 51, 60, 50, 51, 50, 40, 44, 57, 50, 51,\n",
       "       45, 52, 46, 46, 55, 55, 48, 58, 48, 52, 53, 53, 52, 47, 50, 46, 52,\n",
       "       49, 60, 50, 50, 48, 45, 53, 48, 48, 55, 46, 56, 48, 51, 47, 58, 52,\n",
       "       51, 45, 58, 58, 47, 53, 48, 48, 51, 45, 61, 54, 58, 52, 63, 48, 38,\n",
       "       59, 52, 44, 48, 52, 43, 45, 53, 55, 48, 58, 50, 54, 51, 44, 51, 47,\n",
       "       50, 42, 48, 56, 52, 51, 49, 56, 44, 53, 47, 40, 52, 44, 47, 56, 57,\n",
       "       46, 46, 63, 44, 47, 54, 46, 48, 53, 49, 52, 41, 46, 50, 51, 49, 53,\n",
       "       57, 46, 45, 49, 55, 54, 56, 49, 45, 49, 56, 45, 50, 51, 55, 57, 58,\n",
       "       51, 48, 46, 44, 47, 54, 55, 48, 42, 52, 47, 51, 52, 52, 51, 50, 44,\n",
       "       46, 58, 53, 58, 45, 50, 49, 45, 57, 57, 45, 54, 41, 53, 55, 46, 48,\n",
       "       58, 50, 41, 45, 55, 47, 50, 51, 57, 56, 45, 40, 50, 46, 56, 50, 56,\n",
       "       46, 49, 48, 43, 44, 51, 47, 59, 48, 48, 44, 47, 47, 47, 49, 56, 52,\n",
       "       51, 54, 57, 57, 45, 47, 46, 49, 43, 52, 47, 42, 59, 43, 57, 55, 53,\n",
       "       46, 46, 52, 48, 62, 42, 50, 44, 52, 40, 50, 45, 50, 52, 48, 51, 48,\n",
       "       51, 51, 43, 52, 48, 47, 57, 52, 53, 49, 48, 51, 44, 51, 48, 60, 45,\n",
       "       47, 59, 57, 51, 52, 45, 47, 55, 58, 49, 52, 42, 50, 50, 63, 53, 56,\n",
       "       42, 55, 40, 50, 54, 47, 44, 43, 59, 53, 61, 52, 42, 41, 49, 53, 50,\n",
       "       50, 46, 56, 51, 46, 53, 54, 49, 51, 53, 47, 49, 53, 54, 51, 49, 46,\n",
       "       53, 51, 43, 55, 57, 58, 50, 49, 50, 49, 43, 44, 41, 43, 56, 48, 52,\n",
       "       55, 48, 42, 54, 47, 50, 54, 55, 45, 45, 40, 54, 55, 54, 54, 55, 52,\n",
       "       53, 47, 60, 48, 42, 57, 51, 52, 41, 54, 39, 62, 43, 45, 54, 57, 50,\n",
       "       53, 57, 52, 50, 41, 50, 40, 55, 47, 56, 50, 49, 52, 44, 55, 50, 44,\n",
       "       53, 54, 50, 53, 52, 51, 50, 54, 50, 52, 55, 47, 60, 54, 51, 49, 55,\n",
       "       49, 53, 43, 59, 44, 50, 50, 47, 56, 49, 51, 44, 56, 53, 48, 42, 43,\n",
       "       54, 56, 50, 47, 50, 47, 46, 57, 52, 45, 57, 58, 48, 54, 55, 43, 50,\n",
       "       45, 49, 44, 61, 41, 56, 47, 44, 46, 55, 38, 53, 51, 51, 50, 55, 53,\n",
       "       49, 51, 43, 48, 51, 52, 55, 45, 45, 56, 51, 52, 49, 50, 54, 50, 44,\n",
       "       51, 48, 49, 55, 44, 55, 53, 48, 49, 57, 50, 54, 46, 49, 51, 50, 54,\n",
       "       52, 51, 56, 54, 60, 49, 46, 50, 55, 49, 46, 51, 52, 47, 47, 53, 51,\n",
       "       55, 50, 43, 42, 52, 50, 53, 41, 49, 57, 50, 55, 53, 52, 51, 41, 57,\n",
       "       40, 57, 56, 49, 47, 48, 51, 47, 56, 50, 52, 50, 52, 45, 46, 41, 54,\n",
       "       44, 42, 45, 48, 43, 44, 40, 67, 40, 58, 48, 56, 64, 52])"
      ]
     },
     "execution_count": 7,
     "metadata": {},
     "output_type": "execute_result"
    }
   ],
   "source": [
    "n = 100 \n",
    "# Number of trials\n",
    "\n",
    "p = 0.5 \n",
    "# Probability of each trial\n",
    "\n",
    "cointoss = np.random.binomial(n, p, 1000) \n",
    "# The \"1000\" is the amount of times the simululation is ran \n",
    "# 100 tosses, a thousand times, probability of 0.5 for each result\n",
    "# we are taking a positive result as a heads in this simulation\n",
    "\n",
    "cointoss \n",
    "# shows us all the results"
   ]
  },
  {
   "cell_type": "code",
   "execution_count": 8,
   "metadata": {},
   "outputs": [
    {
     "data": {
      "image/png": "[encoded data removed]",
      "text/plain": [
       "<Figure size 432x288 with 1 Axes>"
      ]
     },
     "metadata": {
      "needs_background": "light"
     },
     "output_type": "display_data"
    }
   ],
   "source": [
    "plt.hist(cointoss, bins = 50, range = (0, 100))\n",
    "# 50 bins to properly disperse the given results\n",
    "# range of 0 to 100 to stress that the results follow binomial distribution, rare at the poles and common in the centre\n",
    "\n",
    "plt.title('Coin Toss')\n",
    "plt.xlabel('Number of Heads')\n",
    "plt.ylabel('Frequency of Heads')\n",
    "# Titles for the graph\n",
    "\n",
    "plt.show()\n",
    "# gets rid of the output and only shows the graph"
   ]
  },
  {
   "cell_type": "markdown",
   "metadata": {},
   "source": [
    "Representation of the amount of heads generated when you toss a coin 100 times, carried out 1000 times.\n",
    "The results follow a binomial distribution."
   ]
  },
  {
   "cell_type": "markdown",
   "metadata": {},
   "source": [
    "We can see that it is highly likely we get roughly 50 heads every time, this is expected as the probability of getting heads in a fair coin toss is 0.5.\n",
    "The amount of results generated near the extremes of 0 heads in 100 tosses and 100 head in a 100 tosses are very low, or unlikely, this further follows the binomial distribution generated in the results."
   ]
  },
  {
   "cell_type": "markdown",
   "metadata": {},
   "source": []
  },
  {
   "cell_type": "markdown",
   "metadata": {},
   "source": [
    "References\n",
    "***\n",
    "https://numpy.org/doc/stable/reference/random/generated/numpy.random.binomial.html\n",
    "\n",
    "https://python-graph-gallery.com/4-add-title-and-axis-label/\n",
    "\n",
    "https://matplotlib.org/3.3.3/api/_as_gen/matplotlib.pyplot.hist.html"
   ]
  },
  {
   "cell_type": "markdown",
   "metadata": {},
   "source": [
    "### Simpson's Paradox\n",
    "\n",
    "***"
   ]
  },
  {
   "cell_type": "markdown",
   "metadata": {},
   "source": [
    "Question: Simpson’s paradox is a well-known statistical paradox\n",
    "where a trend evident in a number of groups reverses when the groups are combined\n",
    "into one big data set. Use numpy to create four data sets, each with an x array\n",
    "and a corresponding y array, to demonstrate Simpson’s paradox. You might\n",
    "create your x arrays using numpy.linspace and create the y array for each\n",
    "x using notation like y = a * x + b where you choose the a and b for each\n",
    "x , y pair to demonstrate the paradox. You might see the Wikipedia page for\n",
    "Simpson’s paradox for inspiration."
   ]
  },
  {
   "cell_type": "code",
   "execution_count": 9,
   "metadata": {},
   "outputs": [],
   "source": [
    "import numpy as np\n",
    "import matplotlib.pyplot as plt"
   ]
  },
  {
   "cell_type": "code",
   "execution_count": 10,
   "metadata": {},
   "outputs": [],
   "source": [
    "x1 = np.linspace(2, 7, 100)\n",
    "x2 = np.linspace(2, 7, 100)\n",
    "x3 = np.linspace(2, 7, 200)\n",
    "x4 = np.linspace(2, 7, 200)\n",
    "# data generated for the x axis using the linspace function"
   ]
  },
  {
   "cell_type": "code",
   "execution_count": 11,
   "metadata": {},
   "outputs": [],
   "source": [
    "y1 = -13*x1 + 187\n",
    "y2 = -18*x2 + 190\n",
    "y3 = 35*x3 -23\n",
    "y4 = 47*x4 - 37\n",
    "# correspopnding y values created using the formula for a line y=mx+c"
   ]
  },
  {
   "cell_type": "code",
   "execution_count": 12,
   "metadata": {},
   "outputs": [
    {
     "data": {
      "image/png": "[encoded data removed]",
      "text/plain": [
       "<Figure size 432x288 with 4 Axes>"
      ]
     },
     "metadata": {
      "needs_background": "light"
     },
     "output_type": "display_data"
    }
   ],
   "source": [
    "fig, axs = plt.subplots(2, 2)\n",
    "axs[0, 0].plot(x1, y1)\n",
    "axs[0, 1].plot(x2, y2, 'tab:orange')\n",
    "axs[1, 0].plot(x3, y3, 'tab:green')\n",
    "axs[1, 1].plot(x4, y4, 'tab:red');\n",
    "# subplots containing each line from the data generated above\n",
    "# each line is given a colour here that will represent it from here on\n",
    "# "
   ]
  },
  {
   "cell_type": "code",
   "execution_count": 13,
   "metadata": {},
   "outputs": [
    {
     "data": {
      "image/png": "[encoded data removed]",
      "text/plain": [
       "<Figure size 432x288 with 1 Axes>"
      ]
     },
     "metadata": {
      "needs_background": "light"
     },
     "output_type": "display_data"
    }
   ],
   "source": [
    "plt.plot(x1, y1, label = \"line 1\")\n",
    "plt.plot(x2, y2, label = \"line 2\")\n",
    "plt.plot(x3, y3, label = \"line 3\")\n",
    "plt.plot(x4, y4, label = \"line 4\")\n",
    "plt.legend()\n",
    "plt.show()\n",
    "# graph showing the relationship between all four datasets created"
   ]
  },
  {
   "cell_type": "code",
   "execution_count": 14,
   "metadata": {},
   "outputs": [],
   "source": [
    "x = np.concatenate([x1, x2, x3, x4])\n",
    "# combining all x axis values for the line of best fit data"
   ]
  },
  {
   "cell_type": "code",
   "execution_count": 15,
   "metadata": {},
   "outputs": [],
   "source": [
    "y = np.concatenate([y1, y2, y3, y4])\n",
    "# combining all y axis values for the line of best fit data"
   ]
  },
  {
   "cell_type": "code",
   "execution_count": 16,
   "metadata": {},
   "outputs": [
    {
     "data": {
      "text/plain": [
       "array([22.0408952 , 43.39930492])"
      ]
     },
     "execution_count": 16,
     "metadata": {},
     "output_type": "execute_result"
    }
   ],
   "source": [
    "coeffs = np.polyfit(x, y, 1)\n",
    "coeffs\n",
    "# creating the function to generate the line of best fit"
   ]
  },
  {
   "cell_type": "code",
   "execution_count": 17,
   "metadata": {},
   "outputs": [
    {
     "data": {
      "image/png": "[encoded data removed]",
      "text/plain": [
       "<Figure size 432x288 with 1 Axes>"
      ]
     },
     "metadata": {
      "needs_background": "light"
     },
     "output_type": "display_data"
    }
   ],
   "source": [
    "plt.plot(x1, y1, label=\"Line 1\")\n",
    "plt.plot(x2, y2, label=\"Line 2\")\n",
    "plt.plot(x3, y3, label=\"Line 3\")\n",
    "plt.plot(x4, y4, label=\"Line 4\")\n",
    "plt.plot(x, coeffs[0] * x + coeffs[1], '-', label='Best Fit')\n",
    "plt.legend()\n",
    "plt.show()\n",
    "# plot containing all 4 datasets created above plus a line of best fit for all the data combined"
   ]
  },
  {
   "cell_type": "markdown",
   "metadata": {},
   "source": [
    "Simpson's Paradox is the situation where an extra variable has not been taken into account for analysis and this confounding variable can alter what we believe to be correct from inspecting the data."
   ]
  },
  {
   "cell_type": "markdown",
   "metadata": {},
   "source": [
    "By looking at the final graph the line of best fit is suggesting that the data is poisitve and going in a positive direction, it is only when you look closer at the data you see that the data is weighted towards a positive outcome as there are double the amount of positive inclined data points compared to the negative sloped data points."
   ]
  },
  {
   "cell_type": "markdown",
   "metadata": {},
   "source": [
    "Two of the four lines have negative slopes, however, it is the fact there are only half as many data points to these lines that allow the line of best fit to be hijacked by the two lines with the positive slopes."
   ]
  },
  {
   "cell_type": "markdown",
   "metadata": {},
   "source": [
    "References\n",
    "***\n",
    "https://matplotlib.org/3.3.3/gallery/subplots_axes_and_figures/subplots_demo.html#sphx-glr-gallery-subplots-axes-and-figures-subplots-demo-py\n",
    "\n",
    "https://github.com/ianmcloughlin/jupyter-teaching-notebooks/blob/master/fitting-lines.ipynb\n",
    "\n",
    "\n",
    "https://www.sisense.com/blog/understanding-simpsons-paradox-to-avoid-faulty-conclusions/"
   ]
  }
 ],
 "metadata": {
  "kernelspec": {
   "display_name": "Python 3",
   "language": "python",
   "name": "python3"
  },
  "language_info": {
   "codemirror_mode": {
    "name": "ipython",
    "version": 3
   },
   "file_extension": ".py",
   "mimetype": "text/x-python",
   "name": "python",
   "nbconvert_exporter": "python",
   "pygments_lexer": "ipython3",
   "version": "3.8.3"
  }
 },
 "nbformat": 4,
 "nbformat_minor": 4
}
