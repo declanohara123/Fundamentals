{
 "cells": [
  {
   "cell_type": "markdown",
   "metadata": {},
   "source": [
    "### Fundamentals of Data Science Project\n",
    "\n",
    "***"
   ]
  },
  {
   "cell_type": "markdown",
   "metadata": {},
   "source": [
    "#### Counts\n",
    "\n",
    "***"
   ]
  },
  {
   "cell_type": "markdown",
   "metadata": {},
   "source": [
    "Question: Write a Python function called counts that takes a list as\n",
    "input and returns a dictionary of unique items in the list as keys and the number of\n",
    "times each item appears as values. So, the input ['A', 'A', 'B', 'C', 'A']\n",
    "should have output {'A': 3, 'B': 1, 'C': 1} . Your code should not depend\n",
    "on any module from the standard library1 or otherwise. You should research\n",
    "the task first and include a description with references of your algorithm in the\n",
    "notebook"
   ]
  },
  {
   "cell_type": "code",
   "execution_count": 1,
   "metadata": {},
   "outputs": [],
   "source": [
    "l = ['a', 'b', 'c', 'd', 'a', 'f', 'e', 'a', 'b', 'c', 'e', 'd']"
   ]
  },
  {
   "cell_type": "code",
   "execution_count": 28,
   "metadata": {},
   "outputs": [
    {
     "data": {
      "text/plain": [
       "{'a': 3, 'b': 2, 'c': 2, 'd': 2, 'f': 1, 'e': 2}"
      ]
     },
     "execution_count": 28,
     "metadata": {},
     "output_type": "execute_result"
    }
   ],
   "source": [
    "def count(a):\n",
    "    x = {}\n",
    "    for i in a:\n",
    "         if i in x:\n",
    "             x[i] +=1\n",
    "         else:\n",
    "             x[i] =1\n",
    "    return x\n",
    "\n",
    "count(l)"
   ]
  },
  {
   "cell_type": "markdown",
   "metadata": {},
   "source": []
  },
  {
   "cell_type": "markdown",
   "metadata": {},
   "source": [
    "https://www.geeksforgeeks.org/python-count-occurrences-element-list/\n",
    "\n",
    "https://stackoverflow.com/questions/2600191/how-can-i-count-the-occurrences-of-a-list-item"
   ]
  },
  {
   "cell_type": "markdown",
   "metadata": {},
   "source": [
    "#### Dicerolls\n",
    "\n",
    "***"
   ]
  },
  {
   "cell_type": "markdown",
   "metadata": {},
   "source": [
    "Question: Write a Python function called dicerolls that simulates\n",
    "rolling dice. Your function should take two parameters: the number of dice k and\n",
    "the number of times to roll the dice n. The function should simulate randomly\n",
    "rolling k dice n times, keeping track of each total face value. It should then return\n",
    "a dictionary with the number of times each possible total face value occurred. So,\n",
    "calling the function as diceroll(k=2, n=1000) should return a dictionary like:\n",
    "{2:19,3:50,4:82,5:112,6:135,7:174,8:133,9:114,10:75,11:70,12:36}\n",
    "You can use any module from the Python standard library you wish and you should\n",
    "include a description with references of your algorithm in the notebook."
   ]
  },
  {
   "cell_type": "code",
   "execution_count": 3,
   "metadata": {},
   "outputs": [],
   "source": [
    "import random\n",
    "import numpy as np"
   ]
  },
  {
   "cell_type": "code",
   "execution_count": 4,
   "metadata": {},
   "outputs": [
    {
     "ename": "SyntaxError",
     "evalue": "invalid syntax (<ipython-input-4-a8e1becb674c>, line 1)",
     "output_type": "error",
     "traceback": [
      "\u001b[1;36m  File \u001b[1;32m\"<ipython-input-4-a8e1becb674c>\"\u001b[1;36m, line \u001b[1;32m1\u001b[0m\n\u001b[1;33m    def diceroll (k, m)\u001b[0m\n\u001b[1;37m                       ^\u001b[0m\n\u001b[1;31mSyntaxError\u001b[0m\u001b[1;31m:\u001b[0m invalid syntax\n"
     ]
    }
   ],
   "source": [
    "def diceroll (k, m)\n",
    "    "
   ]
  },
  {
   "cell_type": "code",
   "execution_count": null,
   "metadata": {},
   "outputs": [],
   "source": []
  },
  {
   "cell_type": "code",
   "execution_count": null,
   "metadata": {},
   "outputs": [],
   "source": []
  },
  {
   "cell_type": "code",
   "execution_count": null,
   "metadata": {},
   "outputs": [],
   "source": []
  },
  {
   "cell_type": "markdown",
   "metadata": {},
   "source": [
    "Python roll two dice. simulating rolling 2 dice in Python, Roll the dice in the loop: def dice(n): total = 0 for i in range(n): total += random.​randint(1, 6) return total. Player will throw a dice and the output will be added to the current scores of the player (initially equal to zero). If the dice had output 6 then it would be thrown again (one dice: 6, one more turn: 4. Then the total would be 6+4 = 10). The sum of total will be throwing id the total score of the player with a particular number of trials."
   ]
  },
  {
   "cell_type": "code",
   "execution_count": null,
   "metadata": {},
   "outputs": [],
   "source": []
  },
  {
   "cell_type": "code",
   "execution_count": null,
   "metadata": {},
   "outputs": [],
   "source": []
  },
  {
   "cell_type": "code",
   "execution_count": null,
   "metadata": {},
   "outputs": [],
   "source": []
  },
  {
   "cell_type": "code",
   "execution_count": null,
   "metadata": {},
   "outputs": [],
   "source": []
  },
  {
   "cell_type": "code",
   "execution_count": null,
   "metadata": {},
   "outputs": [],
   "source": []
  },
  {
   "cell_type": "code",
   "execution_count": null,
   "metadata": {},
   "outputs": [],
   "source": []
  },
  {
   "cell_type": "code",
   "execution_count": null,
   "metadata": {},
   "outputs": [],
   "source": []
  },
  {
   "cell_type": "code",
   "execution_count": null,
   "metadata": {},
   "outputs": [],
   "source": []
  },
  {
   "cell_type": "code",
   "execution_count": null,
   "metadata": {},
   "outputs": [],
   "source": []
  },
  {
   "cell_type": "code",
   "execution_count": null,
   "metadata": {},
   "outputs": [],
   "source": []
  },
  {
   "cell_type": "code",
   "execution_count": null,
   "metadata": {},
   "outputs": [],
   "source": []
  },
  {
   "cell_type": "code",
   "execution_count": null,
   "metadata": {},
   "outputs": [],
   "source": []
  },
  {
   "cell_type": "markdown",
   "metadata": {},
   "source": [
    "#### The Numpy Random Binomial Function\n",
    "\n",
    "***"
   ]
  },
  {
   "cell_type": "markdown",
   "metadata": {},
   "source": [
    "The numpy.random.binomial function can be used to\n",
    "simulate flipping a coin with a 50/50 chance of heads or tails. Interestingly, if a\n",
    "coin is flipped many times then the number of heads is well approximated by a\n",
    "bell-shaped curve. For instance, if we flip a coin 100 times in a row the chance of\n",
    "getting 50 heads is relatively high, the chances of getting 0 or 100 heads is relatively\n",
    "low, and the chances of getting any other number of heads decreases as you move\n",
    "away from 50 in either direction towards 0 or 100. Write some python code that\n",
    "simulates flipping a coin 100 times. Then run this code 1,000 times, keeping track\n",
    "of the number of heads in each of the 1,000 simulations. Select an appropriate\n",
    "plot to depict the resulting list of 1,000 numbers, showing that it roughly follows\n",
    "a bell-shaped curve. You should explain your work in a Markdown cell above the\n",
    "code.\n"
   ]
  },
  {
   "cell_type": "code",
   "execution_count": 9,
   "metadata": {},
   "outputs": [],
   "source": [
    "import numpy as np\n",
    "import matplotlib.pyplot as plt"
   ]
  },
  {
   "cell_type": "code",
   "execution_count": 25,
   "metadata": {
    "scrolled": true
   },
   "outputs": [
    {
     "data": {
      "text/plain": [
       "array([61, 49, 45, 60, 54, 48, 51, 51, 50, 47, 53, 50, 52, 59, 53, 54, 50,\n",
       "       46, 51, 43, 50, 44, 50, 56, 43, 49, 53, 47, 57, 53, 46, 46, 53, 55,\n",
       "       47, 48, 58, 34, 53, 41, 52, 52, 52, 54, 51, 42, 50, 49, 50, 55, 55,\n",
       "       49, 53, 48, 45, 52, 44, 44, 42, 53, 41, 52, 57, 55, 53, 45, 57, 57,\n",
       "       54, 49, 48, 46, 53, 48, 51, 43, 41, 39, 49, 53, 44, 46, 49, 41, 50,\n",
       "       50, 47, 44, 50, 54, 41, 39, 46, 53, 56, 48, 48, 52, 48, 47, 46, 53,\n",
       "       45, 49, 42, 48, 43, 49, 52, 38, 55, 53, 52, 56, 52, 49, 43, 59, 50,\n",
       "       55, 49, 51, 41, 45, 50, 56, 56, 49, 45, 55, 44, 49, 51, 45, 44, 53,\n",
       "       60, 56, 53, 52, 53, 45, 52, 50, 51, 50, 50, 50, 39, 62, 52, 48, 54,\n",
       "       54, 49, 50, 55, 50, 40, 48, 50, 54, 46, 44, 51, 59, 48, 52, 49, 49,\n",
       "       51, 52, 53, 54, 46, 49, 44, 43, 48, 46, 35, 48, 53, 58, 53, 46, 44,\n",
       "       51, 51, 42, 45, 52, 52, 46, 49, 59, 37, 41, 56, 54, 46, 48, 49, 56,\n",
       "       60, 52, 56, 48, 38, 54, 52, 61, 47, 54, 47, 50, 52, 56, 55, 44, 47,\n",
       "       49, 50, 46, 46, 45, 46, 45, 37, 52, 53, 51, 48, 49, 51, 58, 45, 54,\n",
       "       51, 46, 53, 54, 46, 53, 47, 53, 47, 62, 46, 54, 48, 54, 42, 56, 44,\n",
       "       49, 49, 43, 55, 52, 56, 51, 45, 46, 56, 46, 49, 49, 45, 48, 48, 57,\n",
       "       53, 51, 51, 49, 50, 59, 44, 45, 53, 56, 48, 48, 52, 55, 45, 54, 52,\n",
       "       52, 55, 61, 46, 56, 43, 50, 53, 46, 49, 51, 45, 47, 38, 50, 55, 53,\n",
       "       50, 58, 48, 46, 44, 50, 49, 56, 52, 49, 41, 44, 45, 47, 50, 51, 47,\n",
       "       44, 46, 52, 56, 44, 46, 51, 51, 51, 45, 55, 51, 56, 58, 51, 51, 47,\n",
       "       53, 59, 46, 41, 45, 55, 51, 56, 58, 51, 52, 51, 49, 49, 58, 44, 52,\n",
       "       45, 50, 59, 49, 49, 48, 52, 49, 45, 49, 49, 58, 52, 47, 43, 56, 60,\n",
       "       44, 48, 47, 56, 54, 46, 55, 54, 45, 39, 56, 48, 48, 55, 49, 43, 52,\n",
       "       49, 42, 42, 41, 50, 50, 50, 61, 43, 45, 44, 54, 48, 48, 47, 40, 57,\n",
       "       44, 54, 47, 55, 46, 48, 49, 45, 47, 43, 51, 48, 49, 49, 53, 48, 41,\n",
       "       49, 47, 53, 47, 48, 58, 51, 49, 55, 55, 46, 53, 53, 44, 43, 50, 49,\n",
       "       48, 59, 46, 51, 55, 49, 47, 55, 51, 49, 53, 50, 54, 48, 44, 55, 55,\n",
       "       50, 47, 48, 49, 54, 49, 56, 41, 50, 48, 54, 65, 40, 58, 38, 41, 49,\n",
       "       54, 46, 50, 46, 57, 41, 49, 54, 44, 38, 52, 50, 42, 47, 58, 49, 55,\n",
       "       49, 57, 47, 51, 49, 52, 45, 49, 47, 50, 45, 58, 51, 55, 52, 49, 38,\n",
       "       46, 50, 43, 57, 52, 56, 51, 52, 58, 35, 49, 58, 43, 55, 43, 51, 49,\n",
       "       45, 46, 49, 54, 54, 45, 53, 57, 62, 50, 54, 45, 46, 50, 51, 48, 50,\n",
       "       41, 46, 47, 57, 41, 50, 49, 48, 50, 55, 42, 44, 59, 56, 52, 55, 59,\n",
       "       44, 48, 57, 43, 49, 48, 50, 47, 58, 45, 50, 50, 43, 49, 50, 50, 46,\n",
       "       51, 49, 57, 52, 51, 54, 53, 53, 52, 56, 48, 55, 46, 57, 42, 59, 50,\n",
       "       43, 58, 48, 51, 41, 53, 61, 54, 58, 51, 51, 52, 43, 54, 46, 55, 55,\n",
       "       52, 51, 38, 47, 49, 46, 49, 41, 53, 44, 61, 54, 62, 51, 53, 47, 58,\n",
       "       51, 47, 48, 50, 51, 54, 49, 44, 59, 45, 57, 50, 44, 51, 51, 48, 56,\n",
       "       51, 50, 45, 41, 45, 36, 58, 52, 52, 47, 49, 48, 54, 54, 49, 57, 45,\n",
       "       50, 47, 46, 52, 44, 54, 59, 56, 49, 54, 51, 42, 54, 44, 50, 51, 57,\n",
       "       50, 61, 44, 50, 49, 50, 51, 46, 48, 54, 52, 48, 53, 51, 37, 47, 46,\n",
       "       57, 59, 56, 50, 54, 47, 46, 44, 49, 51, 46, 53, 56, 42, 54, 46, 58,\n",
       "       46, 52, 45, 50, 51, 48, 51, 45, 48, 47, 53, 49, 44, 48, 53, 49, 52,\n",
       "       50, 47, 52, 47, 57, 47, 38, 38, 46, 51, 53, 50, 49, 53, 53, 46, 50,\n",
       "       45, 53, 49, 56, 41, 53, 49, 53, 46, 51, 54, 45, 62, 52, 42, 47, 55,\n",
       "       53, 42, 52, 55, 50, 40, 45, 53, 45, 54, 54, 46, 51, 50, 52, 46, 47,\n",
       "       49, 54, 58, 53, 47, 61, 51, 54, 49, 52, 50, 42, 57, 47, 52, 50, 51,\n",
       "       56, 49, 44, 45, 62, 52, 50, 50, 48, 45, 51, 59, 40, 62, 50, 50, 55,\n",
       "       53, 41, 42, 49, 46, 42, 49, 47, 50, 50, 50, 51, 48, 53, 40, 50, 50,\n",
       "       48, 46, 50, 46, 46, 54, 53, 47, 62, 49, 53, 50, 43, 53, 55, 45, 42,\n",
       "       53, 57, 49, 49, 60, 59, 50, 51, 49, 57, 48, 49, 42, 54, 59, 45, 44,\n",
       "       41, 49, 54, 54, 43, 46, 43, 52, 51, 52, 54, 53, 50, 48, 51, 56, 48,\n",
       "       57, 53, 48, 47, 48, 52, 50, 51, 52, 57, 45, 50, 47, 48, 48, 55, 60,\n",
       "       53, 50, 35, 38, 55, 36, 47, 45, 51, 51, 44, 53, 61, 39, 56, 63, 46,\n",
       "       57, 38, 55, 53, 43, 53, 51, 48, 54, 52, 49, 45, 48, 46, 53, 48, 53,\n",
       "       49, 49, 53, 45, 53, 62, 55, 44, 60, 55, 46, 40, 43, 47, 44, 47, 45,\n",
       "       49, 47, 56, 47, 57, 49, 53, 53, 57, 52, 52, 51, 57, 56, 54, 48, 52,\n",
       "       48, 55, 61, 54, 58, 53, 54, 45, 53, 55, 48, 46, 54, 49, 50, 48, 54,\n",
       "       55, 51, 59, 54, 43, 51, 47, 42, 46, 47, 46, 48, 51, 60])"
      ]
     },
     "execution_count": 25,
     "metadata": {},
     "output_type": "execute_result"
    }
   ],
   "source": [
    "n = 100 \n",
    "# Number of trials\n",
    "\n",
    "p = 0.5 \n",
    "# Probability of each trial\n",
    "\n",
    "cointoss = np.random.binomial(n, p, 1000) \n",
    "# The \"1000\" is the amount of times the simululation is ran \n",
    "# 100 tosses, a thousand times, probability of 0.5 for each result\n",
    "# we are taking a positive result as a heads in this simulation\n",
    "\n",
    "cointoss \n",
    "# shows us all the ressults"
   ]
  },
  {
   "cell_type": "code",
   "execution_count": 29,
   "metadata": {},
   "outputs": [
    {
     "data": {
      "image/png": "[encoded data removed]",
      "text/plain": [
       "<Figure size 432x288 with 1 Axes>"
      ]
     },
     "metadata": {
      "needs_background": "light"
     },
     "output_type": "display_data"
    }
   ],
   "source": [
    "plt.hist(cointoss, bins = 50, range = (0, 100))\n",
    "# 50 bins to properly disperse the given results\n",
    "# range of 0 to 100 to stress that the results follow binomial distribution, rare at the poles and common in the centre\n",
    "\n",
    "plt.title('Coin Toss')\n",
    "plt.xlabel('Number of Heads')\n",
    "plt.ylabel('Frequency of Heads')\n",
    "# Titles for the graph\n",
    "\n",
    "plt.show()\n",
    "# gets rid of the output and only shows the graph"
   ]
  },
  {
   "cell_type": "markdown",
   "metadata": {},
   "source": []
  },
  {
   "cell_type": "markdown",
   "metadata": {},
   "source": []
  },
  {
   "cell_type": "markdown",
   "metadata": {},
   "source": [
    "https://numpy.org/doc/stable/reference/random/generated/numpy.random.binomial.html\n",
    "\n",
    "https://python-graph-gallery.com/4-add-title-and-axis-label/\n",
    "\n",
    "https://matplotlib.org/3.3.3/api/_as_gen/matplotlib.pyplot.hist.html"
   ]
  },
  {
   "cell_type": "markdown",
   "metadata": {},
   "source": [
    "#### Simpson's Paradox\n",
    "\n",
    "***"
   ]
  },
  {
   "cell_type": "markdown",
   "metadata": {},
   "source": [
    "Simpson’s paradox is a well-known statistical paradox\n",
    "where a trend evident in a number of groups reverses when the groups are combined\n",
    "into one big data set. Use numpy to create four data sets, each with an x array\n",
    "and a corresponding y array, to demonstrate Simpson’s paradox. You might\n",
    "create your x arrays using numpy.linspace and create the y array for each\n",
    "x using notation like y = a * x + b where you choose the a and b for each\n",
    "x , y pair to demonstrate the paradox. You might see the Wikipedia page for\n",
    "Simpson’s paradox for inspiration."
   ]
  },
  {
   "cell_type": "code",
   "execution_count": 55,
   "metadata": {},
   "outputs": [],
   "source": [
    "import numpy as np\n",
    "import matplotlib.pyplot as plt\n",
    "import seaborn as sns"
   ]
  },
  {
   "cell_type": "code",
   "execution_count": 81,
   "metadata": {},
   "outputs": [],
   "source": [
    "x1 = np.linspace(2.0, 5.0, 50)\n",
    "x2 = np.linspace(3.0, 6.0, 50)\n",
    "x3 = np.linspace(1.5, 4.0, 50)\n",
    "x4 = np.linspace(1.0, 5.5, 50)"
   ]
  },
  {
   "cell_type": "code",
   "execution_count": 82,
   "metadata": {},
   "outputs": [],
   "source": [
    "a1 = 7\n",
    "b1 = 14\n",
    "y1 = a1*x1 + b1\n",
    "\n",
    "a2 = 2\n",
    "b2 = 13\n",
    "y2 = a2*x2 + b2\n",
    "\n",
    "a3 = 11\n",
    "b3 = 9\n",
    "y3 = a3*x3 + b3\n",
    "\n",
    "a4 = 6\n",
    "b4 = 13\n",
    "y4 = a4*x4 + b4"
   ]
  },
  {
   "cell_type": "code",
   "execution_count": 97,
   "metadata": {},
   "outputs": [
    {
     "ename": "SyntaxError",
     "evalue": "invalid syntax (<ipython-input-97-a180a98eccf5>, line 6)",
     "output_type": "error",
     "traceback": [
      "\u001b[1;36m  File \u001b[1;32m\"<ipython-input-97-a180a98eccf5>\"\u001b[1;36m, line \u001b[1;32m6\u001b[0m\n\u001b[1;33m    plt.plot(x1, regression line, label='regression line')\u001b[0m\n\u001b[1;37m                            ^\u001b[0m\n\u001b[1;31mSyntaxError\u001b[0m\u001b[1;31m:\u001b[0m invalid syntax\n"
     ]
    }
   ],
   "source": [
    "plt.plot(x1, y1, label = \"line 1\")\n",
    "plt.plot(x2, y2, label = \"line 2\")\n",
    "plt.plot(x3, y3, label = \"line 3\")\n",
    "plt.plot(x4, y4, label = \"line 4\")\n",
    "plt.legend()\n",
    "plt.plot(x1, regression line, label='regression line')\n",
    "plt.show()"
   ]
  },
  {
   "cell_type": "code",
   "execution_count": 90,
   "metadata": {},
   "outputs": [],
   "source": [
    "x1 = np.linspace(2.0, 5.0, 50)"
   ]
  },
  {
   "cell_type": "code",
   "execution_count": 91,
   "metadata": {},
   "outputs": [],
   "source": [
    "x2 = np.linspace(3.0, 6.0, 50)"
   ]
  },
  {
   "cell_type": "code",
   "execution_count": 92,
   "metadata": {},
   "outputs": [],
   "source": [
    "x5 = x1 + x2"
   ]
  },
  {
   "cell_type": "code",
   "execution_count": 94,
   "metadata": {},
   "outputs": [
    {
     "data": {
      "text/plain": [
       "[<matplotlib.lines.Line2D at 0x1dcc72d56a0>]"
      ]
     },
     "execution_count": 94,
     "metadata": {},
     "output_type": "execute_result"
    },
    {
     "data": {
      "image/png": "[encoded data removed]",
      "text/plain": [
       "<Figure size 432x288 with 1 Axes>"
      ]
     },
     "metadata": {
      "needs_background": "light"
     },
     "output_type": "display_data"
    }
   ],
   "source": [
    "plt.plot(x3, y1)\n"
   ]
  },
  {
   "cell_type": "code",
   "execution_count": null,
   "metadata": {},
   "outputs": [],
   "source": []
  },
  {
   "cell_type": "code",
   "execution_count": null,
   "metadata": {},
   "outputs": [],
   "source": []
  }
 ],
 "metadata": {
  "kernelspec": {
   "display_name": "Python 3",
   "language": "python",
   "name": "python3"
  },
  "language_info": {
   "codemirror_mode": {
    "name": "ipython",
    "version": 3
   },
   "file_extension": ".py",
   "mimetype": "text/x-python",
   "name": "python",
   "nbconvert_exporter": "python",
   "pygments_lexer": "ipython3",
   "version": "3.8.3"
  }
 },
 "nbformat": 4,
 "nbformat_minor": 4
}
